{
  "nbformat": 4,
  "nbformat_minor": 0,
  "metadata": {
    "colab": {
      "provenance": []
    },
    "kernelspec": {
      "name": "python3",
      "display_name": "Python 3"
    },
    "language_info": {
      "name": "python"
    }
  },
  "cells": [
    {
      "cell_type": "markdown",
      "source": [
        "Author: Madina Giyasova\n",
        "Date: 03/01/2023\n",
        "Description: Deliverable (6) - Python: Data Structures"
      ],
      "metadata": {
        "id": "0D2EFvlZMJcs"
      }
    },
    {
      "cell_type": "code",
      "execution_count": 1,
      "metadata": {
        "id": "WlM8VTvFK2iN"
      },
      "outputs": [],
      "source": [
        "import pandas as pd\n",
        "import numpy as np\n",
        "import seaborn as sns"
      ]
    },
    {
      "cell_type": "code",
      "source": [
        "iris = sns.load_dataset('iris')"
      ],
      "metadata": {
        "id": "mQa_5xZ2LGMo"
      },
      "execution_count": 2,
      "outputs": []
    },
    {
      "cell_type": "code",
      "source": [
        "iris = iris.drop(\"species\", axis='columns')"
      ],
      "metadata": {
        "id": "nNzBQbiOLclF"
      },
      "execution_count": 3,
      "outputs": []
    },
    {
      "cell_type": "code",
      "source": [
        "iris = iris.assign(sepal_sum = lambda x: x.sepal_length + x.sepal_width)\n",
        "iris = iris.assign(petal_sum = lambda x: x.petal_length + x.petal_width)"
      ],
      "metadata": {
        "id": "ww5g_ewlLfpb"
      },
      "execution_count": 5,
      "outputs": []
    },
    {
      "cell_type": "code",
      "source": [
        "print(iris)"
      ],
      "metadata": {
        "colab": {
          "base_uri": "https://localhost:8080/"
        },
        "id": "FtqKKka2LigL",
        "outputId": "ff9a26fa-bd9b-494c-d4bd-d69e32ffafc5"
      },
      "execution_count": 6,
      "outputs": [
        {
          "output_type": "stream",
          "name": "stdout",
          "text": [
            "     sepal_length  sepal_width  petal_length  petal_width  sepal_sum  \\\n",
            "0             5.1          3.5           1.4          0.2        8.6   \n",
            "1             4.9          3.0           1.4          0.2        7.9   \n",
            "2             4.7          3.2           1.3          0.2        7.9   \n",
            "3             4.6          3.1           1.5          0.2        7.7   \n",
            "4             5.0          3.6           1.4          0.2        8.6   \n",
            "..            ...          ...           ...          ...        ...   \n",
            "145           6.7          3.0           5.2          2.3        9.7   \n",
            "146           6.3          2.5           5.0          1.9        8.8   \n",
            "147           6.5          3.0           5.2          2.0        9.5   \n",
            "148           6.2          3.4           5.4          2.3        9.6   \n",
            "149           5.9          3.0           5.1          1.8        8.9   \n",
            "\n",
            "     petal_sum  \n",
            "0          1.6  \n",
            "1          1.6  \n",
            "2          1.5  \n",
            "3          1.7  \n",
            "4          1.6  \n",
            "..         ...  \n",
            "145        7.5  \n",
            "146        6.9  \n",
            "147        7.2  \n",
            "148        7.7  \n",
            "149        6.9  \n",
            "\n",
            "[150 rows x 6 columns]\n"
          ]
        }
      ]
    },
    {
      "cell_type": "code",
      "source": [
        "data = {'mean': [], 'std': [], 'min': [], 'max': []}\n",
        "index = []\n",
        "for col in iris.columns:\n",
        "    index.append(col)\n",
        "    data['mean'].append(round(iris[col].mean(),6))\n",
        "    data['std'].append(round(iris[col].std(),6))\n",
        "    data['min'].append(round(iris[col].min(),6))\n",
        "    data['max'].append(round(iris[col].max(),6))"
      ],
      "metadata": {
        "id": "eyeMnU11LexF"
      },
      "execution_count": 7,
      "outputs": []
    },
    {
      "cell_type": "code",
      "source": [
        "index.insert(2,index[-2])\n",
        "index.pop(-2)"
      ],
      "metadata": {
        "colab": {
          "base_uri": "https://localhost:8080/",
          "height": 35
        },
        "id": "Kh0WSMkYLpKq",
        "outputId": "84493994-2565-4411-ee29-5641e9dcf453"
      },
      "execution_count": 8,
      "outputs": [
        {
          "output_type": "execute_result",
          "data": {
            "text/plain": [
              "'sepal_sum'"
            ],
            "application/vnd.google.colaboratory.intrinsic+json": {
              "type": "string"
            }
          },
          "metadata": {},
          "execution_count": 8
        }
      ]
    },
    {
      "cell_type": "code",
      "source": [
        "for key in data:\n",
        "    data[key].insert(2,data[key][-2])\n",
        "    data[key].pop(-2)\n",
        "\n",
        "new_df = pd.DataFrame(data, index)"
      ],
      "metadata": {
        "id": "9o3C0qCSLrOv"
      },
      "execution_count": 9,
      "outputs": []
    },
    {
      "cell_type": "code",
      "source": [
        "print(new_df)"
      ],
      "metadata": {
        "colab": {
          "base_uri": "https://localhost:8080/"
        },
        "id": "4ZXemF8KLuJX",
        "outputId": "a0974f9e-872f-4e5b-d726-d5ed13949399"
      },
      "execution_count": 11,
      "outputs": [
        {
          "output_type": "stream",
          "name": "stdout",
          "text": [
            "                  mean       std  min   max\n",
            "sepal_length  5.843333  0.828066  4.3   7.9\n",
            "sepal_width   3.057333  0.435866  2.0   4.4\n",
            "sepal_sum     8.900667  0.889272  6.8  11.7\n",
            "petal_length  3.758000  1.765298  1.0   6.9\n",
            "petal_width   1.199333  0.762238  0.1   2.5\n",
            "petal_sum     4.957333  2.507689  1.2   9.2\n"
          ]
        }
      ]
    }
  ]
}